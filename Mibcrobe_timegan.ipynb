{
  "nbformat": 4,
  "nbformat_minor": 0,
  "metadata": {
    "colab": {
      "provenance": [],
      "mount_file_id": "14RBdrftV2hkronNNQNFIMdlxJr_GlZJk",
      "authorship_tag": "ABX9TyO6AbrR2tIg7n4POETG+fNo",
      "include_colab_link": true
    },
    "kernelspec": {
      "name": "python3",
      "display_name": "Python 3"
    },
    "language_info": {
      "name": "python"
    },
    "accelerator": "GPU",
    "gpuClass": "standard"
  },
  "cells": [
    {
      "cell_type": "markdown",
      "metadata": {
        "id": "view-in-github",
        "colab_type": "text"
      },
      "source": [
        "<a href=\"https://colab.research.google.com/github/ismailameen/2022_microbe_gan/blob/main/Mibcrobe_timegan.ipynb\" target=\"_parent\"><img src=\"https://colab.research.google.com/assets/colab-badge.svg\" alt=\"Open In Colab\"/></a>"
      ]
    },
    {
      "cell_type": "markdown",
      "source": [
        "Installations: if tabgan isn't already on your device run the pip install"
      ],
      "metadata": {
        "id": "xn2X8G1pZmza"
      }
    },
    {
      "cell_type": "code",
      "source": [
        "#install\n",
        "!pip install tabgan"
      ],
      "metadata": {
        "id": "_yyfLz_-L-6S",
        "colab": {
          "base_uri": "https://localhost:8080/"
        },
        "outputId": "d04e3417-98a4-443c-d597-05690b9a05b9"
      },
      "execution_count": null,
      "outputs": [
        {
          "output_type": "stream",
          "name": "stdout",
          "text": [
            "Looking in indexes: https://pypi.org/simple, https://us-python.pkg.dev/colab-wheels/public/simple/\n",
            "Collecting tabgan\n",
            "  Downloading tabgan-1.2.1-py2.py3-none-any.whl (45 kB)\n",
            "\u001b[K     |████████████████████████████████| 45 kB 4.1 MB/s \n",
            "\u001b[?25hRequirement already satisfied: lightgbm in /usr/local/lib/python3.7/dist-packages (from tabgan) (2.2.3)\n",
            "Requirement already satisfied: torch in /usr/local/lib/python3.7/dist-packages (from tabgan) (1.12.0+cu113)\n",
            "Requirement already satisfied: numpy in /usr/local/lib/python3.7/dist-packages (from tabgan) (1.21.6)\n",
            "Requirement already satisfied: tqdm in /usr/local/lib/python3.7/dist-packages (from tabgan) (4.64.0)\n",
            "Collecting category-encoders\n",
            "  Downloading category_encoders-2.5.0-py2.py3-none-any.whl (69 kB)\n",
            "\u001b[K     |████████████████████████████████| 69 kB 8.4 MB/s \n",
            "\u001b[?25hRequirement already satisfied: torchvision in /usr/local/lib/python3.7/dist-packages (from tabgan) (0.13.0+cu113)\n",
            "Requirement already satisfied: python-dateutil in /usr/local/lib/python3.7/dist-packages (from tabgan) (2.8.2)\n",
            "Collecting scikit-learn==0.23.2\n",
            "  Downloading scikit_learn-0.23.2-cp37-cp37m-manylinux1_x86_64.whl (6.8 MB)\n",
            "\u001b[K     |████████████████████████████████| 6.8 MB 61.0 MB/s \n",
            "\u001b[?25hRequirement already satisfied: pandas in /usr/local/lib/python3.7/dist-packages (from tabgan) (1.3.5)\n",
            "Requirement already satisfied: joblib>=0.11 in /usr/local/lib/python3.7/dist-packages (from scikit-learn==0.23.2->tabgan) (1.1.0)\n",
            "Requirement already satisfied: scipy>=0.19.1 in /usr/local/lib/python3.7/dist-packages (from scikit-learn==0.23.2->tabgan) (1.7.3)\n",
            "Requirement already satisfied: threadpoolctl>=2.0.0 in /usr/local/lib/python3.7/dist-packages (from scikit-learn==0.23.2->tabgan) (3.1.0)\n",
            "Requirement already satisfied: patsy>=0.5.1 in /usr/local/lib/python3.7/dist-packages (from category-encoders->tabgan) (0.5.2)\n",
            "Requirement already satisfied: statsmodels>=0.9.0 in /usr/local/lib/python3.7/dist-packages (from category-encoders->tabgan) (0.10.2)\n",
            "Requirement already satisfied: pytz>=2017.3 in /usr/local/lib/python3.7/dist-packages (from pandas->tabgan) (2022.1)\n",
            "Requirement already satisfied: six in /usr/local/lib/python3.7/dist-packages (from patsy>=0.5.1->category-encoders->tabgan) (1.15.0)\n",
            "Requirement already satisfied: typing-extensions in /usr/local/lib/python3.7/dist-packages (from torch->tabgan) (4.1.1)\n",
            "Requirement already satisfied: requests in /usr/local/lib/python3.7/dist-packages (from torchvision->tabgan) (2.23.0)\n",
            "Requirement already satisfied: pillow!=8.3.*,>=5.3.0 in /usr/local/lib/python3.7/dist-packages (from torchvision->tabgan) (7.1.2)\n",
            "Requirement already satisfied: idna<3,>=2.5 in /usr/local/lib/python3.7/dist-packages (from requests->torchvision->tabgan) (2.10)\n",
            "Requirement already satisfied: chardet<4,>=3.0.2 in /usr/local/lib/python3.7/dist-packages (from requests->torchvision->tabgan) (3.0.4)\n",
            "Requirement already satisfied: urllib3!=1.25.0,!=1.25.1,<1.26,>=1.21.1 in /usr/local/lib/python3.7/dist-packages (from requests->torchvision->tabgan) (1.24.3)\n",
            "Requirement already satisfied: certifi>=2017.4.17 in /usr/local/lib/python3.7/dist-packages (from requests->torchvision->tabgan) (2022.6.15)\n",
            "Installing collected packages: scikit-learn, category-encoders, tabgan\n",
            "  Attempting uninstall: scikit-learn\n",
            "    Found existing installation: scikit-learn 1.0.2\n",
            "    Uninstalling scikit-learn-1.0.2:\n",
            "      Successfully uninstalled scikit-learn-1.0.2\n",
            "\u001b[31mERROR: pip's dependency resolver does not currently take into account all the packages that are installed. This behaviour is the source of the following dependency conflicts.\n",
            "yellowbrick 1.4 requires scikit-learn>=1.0.0, but you have scikit-learn 0.23.2 which is incompatible.\n",
            "imbalanced-learn 0.8.1 requires scikit-learn>=0.24, but you have scikit-learn 0.23.2 which is incompatible.\u001b[0m\n",
            "Successfully installed category-encoders-2.5.0 scikit-learn-0.23.2 tabgan-1.2.1\n"
          ]
        }
      ]
    },
    {
      "cell_type": "markdown",
      "source": [
        "General Imports for data preprocessing and the algorithm"
      ],
      "metadata": {
        "id": "4HrXaVYvZtGT"
      }
    },
    {
      "cell_type": "code",
      "execution_count": null,
      "metadata": {
        "id": "suUZ3ZUFL1ga",
        "colab": {
          "base_uri": "https://localhost:8080/"
        },
        "outputId": "f3ccf276-3e03-4a41-e0b0-35fb4967dfca"
      },
      "outputs": [
        {
          "output_type": "stream",
          "name": "stderr",
          "text": [
            "/usr/local/lib/python3.7/dist-packages/statsmodels/tools/_testing.py:19: FutureWarning: pandas.util.testing is deprecated. Use the functions in the public API at pandas.testing instead.\n",
            "  import pandas.util.testing as tm\n"
          ]
        }
      ],
      "source": [
        "#imports\n",
        "#if this code cell fails, restart the runtime and run again\n",
        "import tabgan\n",
        "import pandas as pd\n",
        "import numpy as np\n",
        "from tabgan.utils import get_year_mnth_dt_from_date,make_two_digit,collect_dates\n",
        "from tabgan.sampler import OriginalGenerator, GANGenerator"
      ]
    },
    {
      "cell_type": "markdown",
      "source": [
        "Standard Dataset preprocessing"
      ],
      "metadata": {
        "id": "Z76CtENfZ7d5"
      }
    },
    {
      "cell_type": "code",
      "source": [
        "#adjust the path for your device/drive\n",
        "data = pd.read_csv('/content/drive/MyDrive/2022_gan/MicrobeGAN/pcbi.1007896.s002.csv') \n",
        "data = data.drop('MEAN', axis=1)\n",
        "data = data.drop('STD', axis = 1)\n",
        "data = data.iloc[1:,:]\n",
        "data.rename( columns={'Unnamed: 0':'Time'}, inplace=True )\n",
        "data = data.astype('float')\n",
        "data=data.drop('Time',axis=1)\n",
        "data.head()\n"
      ],
      "metadata": {
        "id": "myTjJI22MK2v",
        "colab": {
          "base_uri": "https://localhost:8080/",
          "height": 270
        },
        "outputId": "db14158b-593a-4fbe-ca6e-88392865dbe7"
      },
      "execution_count": null,
      "outputs": [
        {
          "output_type": "execute_result",
          "data": {
            "text/plain": [
              "     Replica 1    Replica 2    Replica 3    Replica 4     Replica 5  \\\n",
              "1  38757.05245  134000.0035  242696.3023  500198.9629 -29350.166870   \n",
              "2  11521.82528  120401.5136  256271.8980  459601.4248 -29350.166870   \n",
              "3  25140.71514  188368.5033  229118.1657  446063.8547  11521.825280   \n",
              "4  11521.82528  161189.3439  215537.4875  405435.9619  -2099.617853   \n",
              "5  11521.82528  174780.1959  215537.4875  418981.1240  -2099.617853   \n",
              "\n",
              "     Replica 6    Replica 7    Replica 8  \n",
              "1  106800.4763  188368.5033  120401.5136  \n",
              "2  147595.9467  201954.2669  134000.0035  \n",
              "3  147595.9467  174780.1959  134000.0035  \n",
              "4  161189.3439  134000.0035  134000.0035  \n",
              "5  106800.4763  174780.1959  134000.0035  "
            ],
            "text/html": [
              "\n",
              "  <div id=\"df-e389660c-0517-49bf-95b2-715d3239ae68\">\n",
              "    <div class=\"colab-df-container\">\n",
              "      <div>\n",
              "<style scoped>\n",
              "    .dataframe tbody tr th:only-of-type {\n",
              "        vertical-align: middle;\n",
              "    }\n",
              "\n",
              "    .dataframe tbody tr th {\n",
              "        vertical-align: top;\n",
              "    }\n",
              "\n",
              "    .dataframe thead th {\n",
              "        text-align: right;\n",
              "    }\n",
              "</style>\n",
              "<table border=\"1\" class=\"dataframe\">\n",
              "  <thead>\n",
              "    <tr style=\"text-align: right;\">\n",
              "      <th></th>\n",
              "      <th>Replica 1</th>\n",
              "      <th>Replica 2</th>\n",
              "      <th>Replica 3</th>\n",
              "      <th>Replica 4</th>\n",
              "      <th>Replica 5</th>\n",
              "      <th>Replica 6</th>\n",
              "      <th>Replica 7</th>\n",
              "      <th>Replica 8</th>\n",
              "    </tr>\n",
              "  </thead>\n",
              "  <tbody>\n",
              "    <tr>\n",
              "      <th>1</th>\n",
              "      <td>38757.05245</td>\n",
              "      <td>134000.0035</td>\n",
              "      <td>242696.3023</td>\n",
              "      <td>500198.9629</td>\n",
              "      <td>-29350.166870</td>\n",
              "      <td>106800.4763</td>\n",
              "      <td>188368.5033</td>\n",
              "      <td>120401.5136</td>\n",
              "    </tr>\n",
              "    <tr>\n",
              "      <th>2</th>\n",
              "      <td>11521.82528</td>\n",
              "      <td>120401.5136</td>\n",
              "      <td>256271.8980</td>\n",
              "      <td>459601.4248</td>\n",
              "      <td>-29350.166870</td>\n",
              "      <td>147595.9467</td>\n",
              "      <td>201954.2669</td>\n",
              "      <td>134000.0035</td>\n",
              "    </tr>\n",
              "    <tr>\n",
              "      <th>3</th>\n",
              "      <td>25140.71514</td>\n",
              "      <td>188368.5033</td>\n",
              "      <td>229118.1657</td>\n",
              "      <td>446063.8547</td>\n",
              "      <td>11521.825280</td>\n",
              "      <td>147595.9467</td>\n",
              "      <td>174780.1959</td>\n",
              "      <td>134000.0035</td>\n",
              "    </tr>\n",
              "    <tr>\n",
              "      <th>4</th>\n",
              "      <td>11521.82528</td>\n",
              "      <td>161189.3439</td>\n",
              "      <td>215537.4875</td>\n",
              "      <td>405435.9619</td>\n",
              "      <td>-2099.617853</td>\n",
              "      <td>161189.3439</td>\n",
              "      <td>134000.0035</td>\n",
              "      <td>134000.0035</td>\n",
              "    </tr>\n",
              "    <tr>\n",
              "      <th>5</th>\n",
              "      <td>11521.82528</td>\n",
              "      <td>174780.1959</td>\n",
              "      <td>215537.4875</td>\n",
              "      <td>418981.1240</td>\n",
              "      <td>-2099.617853</td>\n",
              "      <td>106800.4763</td>\n",
              "      <td>174780.1959</td>\n",
              "      <td>134000.0035</td>\n",
              "    </tr>\n",
              "  </tbody>\n",
              "</table>\n",
              "</div>\n",
              "      <button class=\"colab-df-convert\" onclick=\"convertToInteractive('df-e389660c-0517-49bf-95b2-715d3239ae68')\"\n",
              "              title=\"Convert this dataframe to an interactive table.\"\n",
              "              style=\"display:none;\">\n",
              "        \n",
              "  <svg xmlns=\"http://www.w3.org/2000/svg\" height=\"24px\"viewBox=\"0 0 24 24\"\n",
              "       width=\"24px\">\n",
              "    <path d=\"M0 0h24v24H0V0z\" fill=\"none\"/>\n",
              "    <path d=\"M18.56 5.44l.94 2.06.94-2.06 2.06-.94-2.06-.94-.94-2.06-.94 2.06-2.06.94zm-11 1L8.5 8.5l.94-2.06 2.06-.94-2.06-.94L8.5 2.5l-.94 2.06-2.06.94zm10 10l.94 2.06.94-2.06 2.06-.94-2.06-.94-.94-2.06-.94 2.06-2.06.94z\"/><path d=\"M17.41 7.96l-1.37-1.37c-.4-.4-.92-.59-1.43-.59-.52 0-1.04.2-1.43.59L10.3 9.45l-7.72 7.72c-.78.78-.78 2.05 0 2.83L4 21.41c.39.39.9.59 1.41.59.51 0 1.02-.2 1.41-.59l7.78-7.78 2.81-2.81c.8-.78.8-2.07 0-2.86zM5.41 20L4 18.59l7.72-7.72 1.47 1.35L5.41 20z\"/>\n",
              "  </svg>\n",
              "      </button>\n",
              "      \n",
              "  <style>\n",
              "    .colab-df-container {\n",
              "      display:flex;\n",
              "      flex-wrap:wrap;\n",
              "      gap: 12px;\n",
              "    }\n",
              "\n",
              "    .colab-df-convert {\n",
              "      background-color: #E8F0FE;\n",
              "      border: none;\n",
              "      border-radius: 50%;\n",
              "      cursor: pointer;\n",
              "      display: none;\n",
              "      fill: #1967D2;\n",
              "      height: 32px;\n",
              "      padding: 0 0 0 0;\n",
              "      width: 32px;\n",
              "    }\n",
              "\n",
              "    .colab-df-convert:hover {\n",
              "      background-color: #E2EBFA;\n",
              "      box-shadow: 0px 1px 2px rgba(60, 64, 67, 0.3), 0px 1px 3px 1px rgba(60, 64, 67, 0.15);\n",
              "      fill: #174EA6;\n",
              "    }\n",
              "\n",
              "    [theme=dark] .colab-df-convert {\n",
              "      background-color: #3B4455;\n",
              "      fill: #D2E3FC;\n",
              "    }\n",
              "\n",
              "    [theme=dark] .colab-df-convert:hover {\n",
              "      background-color: #434B5C;\n",
              "      box-shadow: 0px 1px 3px 1px rgba(0, 0, 0, 0.15);\n",
              "      filter: drop-shadow(0px 1px 2px rgba(0, 0, 0, 0.3));\n",
              "      fill: #FFFFFF;\n",
              "    }\n",
              "  </style>\n",
              "\n",
              "      <script>\n",
              "        const buttonEl =\n",
              "          document.querySelector('#df-e389660c-0517-49bf-95b2-715d3239ae68 button.colab-df-convert');\n",
              "        buttonEl.style.display =\n",
              "          google.colab.kernel.accessAllowed ? 'block' : 'none';\n",
              "\n",
              "        async function convertToInteractive(key) {\n",
              "          const element = document.querySelector('#df-e389660c-0517-49bf-95b2-715d3239ae68');\n",
              "          const dataTable =\n",
              "            await google.colab.kernel.invokeFunction('convertToInteractive',\n",
              "                                                     [key], {});\n",
              "          if (!dataTable) return;\n",
              "\n",
              "          const docLinkHtml = 'Like what you see? Visit the ' +\n",
              "            '<a target=\"_blank\" href=https://colab.research.google.com/notebooks/data_table.ipynb>data table notebook</a>'\n",
              "            + ' to learn more about interactive tables.';\n",
              "          element.innerHTML = '';\n",
              "          dataTable['output_type'] = 'display_data';\n",
              "          await google.colab.output.renderOutput(dataTable, element);\n",
              "          const docLink = document.createElement('div');\n",
              "          docLink.innerHTML = docLinkHtml;\n",
              "          element.appendChild(docLink);\n",
              "        }\n",
              "      </script>\n",
              "    </div>\n",
              "  </div>\n",
              "  "
            ]
          },
          "metadata": {},
          "execution_count": 19
        }
      ]
    },
    {
      "cell_type": "markdown",
      "source": [
        "Dataset missing first inflection"
      ],
      "metadata": {
        "id": "pvHb5YAMaTG2"
      }
    },
    {
      "cell_type": "code",
      "source": [
        "\n",
        "data_inflection1 = pd.read_csv('/content/drive/MyDrive/2022_gan/MicrobeGAN/cut1')\n",
        "data_inflection1 = data_inflection1.drop('MEAN', axis=1)\n",
        "data_inflection1 = data_inflection1.drop('STD', axis = 1)\n",
        "data_inflection1 = data_inflection1.iloc[1:,:]\n",
        "data_inflection1.rename(columns={'X':'Time'}, inplace = True)\n",
        "data_inflection1 = data_inflection1.astype('float')\n",
        "data_inflection1=data_inflection1.drop('Time',axis=1)"
      ],
      "metadata": {
        "id": "ahHsT_qnaaBq"
      },
      "execution_count": null,
      "outputs": []
    },
    {
      "cell_type": "markdown",
      "source": [
        "Dataset missing second inflection (to plateau)"
      ],
      "metadata": {
        "id": "XPxodjjpaaiH"
      }
    },
    {
      "cell_type": "code",
      "source": [
        "data_inflection2 = pd.read_csv('/content/drive/MyDrive/2022_gan/MicrobeGAN/cut2')\n",
        "data_inflection2 = data_inflection2.drop('MEAN', axis=1)\n",
        "data_inflection2 = data_inflection2.drop('STD', axis = 1)\n",
        "data_inflection2 = data_inflection2.iloc[1:,:]\n",
        "data_inflection2.rename(columns={'X':'Time'}, inplace = True)\n",
        "data_inflection2 = data_inflection2.astype('float')\n",
        "data_inflection2=data_inflection2.drop('Time',axis=1)"
      ],
      "metadata": {
        "id": "io_14C-9af6F"
      },
      "execution_count": null,
      "outputs": []
    },
    {
      "cell_type": "markdown",
      "source": [
        "Dataset missing both inflections"
      ],
      "metadata": {
        "id": "B-LmpS1uago_"
      }
    },
    {
      "cell_type": "code",
      "source": [
        "data_inflection12 = pd.read_csv('/content/drive/MyDrive/2022_gan/MicrobeGAN/cut12')\n",
        "data_inflection12 = data_inflection12.drop('MEAN', axis=1)\n",
        "data_inflection12 = data_inflection12.drop('STD', axis = 1)\n",
        "data_inflection12 = data_inflection12.iloc[1:,:]\n",
        "data_inflection12.rename(columns={'X':'Time'}, inplace = True)\n",
        "data_inflection12 = data_inflection12.astype('float')\n",
        "data_inflection12=data_inflection12.drop('Time',axis=1)"
      ],
      "metadata": {
        "id": "xlUcLEWwalBb"
      },
      "execution_count": null,
      "outputs": []
    },
    {
      "cell_type": "markdown",
      "source": [
        "Running the GANS"
      ],
      "metadata": {
        "id": "WBa8R_BpaluV"
      }
    },
    {
      "cell_type": "code",
      "source": [
        "# GANs with standard dataset:\n",
        "  # 1. default generation parameters\n",
        "  # 2. only adversarial filtering\n",
        "  # 3. no adversarial filtering\n",
        "\n",
        "train1_1 = data\n",
        "train2_1 = data\n",
        "train3_1 = data\n",
        "\n",
        "\n",
        "#train1_1,target1_1 = GANGenerator(bot_filter_quantile = 0.0001, top_filter_quantile = 0.9999, \\\n",
        "                    #        gan_params = {\"batch_size\": 50, \"patience\": 70, \"epochs\" : 2000,})\\\n",
        "                     #       .generate_data_pipe(train1_1,None,train1_1)\n",
        "\n",
        "train2_1,target2_1 = GANGenerator(bot_filter_quantile = 0.0001, top_filter_quantile = 0.9999, \\\n",
        "                            gan_params = {\"batch_size\": 50, \"patience\": 200, \"epochs\" : 2000,})\\\n",
        "                            .generate_data_pipe(train2_1,None,train2_1, only_adversarial = True)\n",
        "\n",
        "#train3_1,target3_1 = GANGenerator(bot_filter_quantile = 0.0001, top_filter_quantile = 0.9999, \\\n",
        "                       #     gan_params = {\"batch_size\": 50, \"patience\": 200, \"epochs\" : 2000,})\\\n",
        "                       #     .generate_data_pipe(train3_1,None,train3_1, use_adversarial = False)\n",
        "\n",
        "\n",
        "#Exporting the generated datasets\n",
        "from google.colab import files\n",
        "data = pd.read_csv('/content/drive/MyDrive/2022_gan/MicrobeGAN/pcbi.1007896.s002.csv')\n",
        "data = data.iloc[1:,:]\n",
        "data.rename( columns={'Unnamed: 0':'Time'}, inplace=True )\n",
        "\n",
        "\n",
        "#synth1_1 = train1_1.join(data['Time'])\n",
        "synth2_1 = train2_1.join(data['Time'])\n",
        "#synth3_1 =train3_1.join(data['Time'])\n",
        "\n",
        "\n",
        "#exp1_1 = synth1_1.to_csv('Microbe_synthetic_1_1')\n",
        "exp_2_1 = synth2_1.to_csv('Microbe_synthetic_2_1*')\n",
        "#exp_3_1 = synth3_1.to_csv('Microbe_synthetic_3_1')\n",
        "\n",
        "#refresh files tab in colab to download the synthetic datasets\n",
        "\n",
        "\n"
      ],
      "metadata": {
        "id": "riuygvwMMEld"
      },
      "execution_count": null,
      "outputs": []
    },
    {
      "cell_type": "code",
      "source": [
        "synth2_1.head()"
      ],
      "metadata": {
        "id": "EZsYqN_ryjp1"
      },
      "execution_count": null,
      "outputs": []
    },
    {
      "cell_type": "code",
      "source": [
        "# GANs with first inflection missing:\n",
        "  # 1. default generation parameters\n",
        "  # 2. only adversarial filtering\n",
        "  # 3. no adversarial filtering\n",
        "\n",
        "train1_2 = data_inflection1\n",
        "train2_2 = data_inflection1\n",
        "train3_2 = data_inflection1\n",
        "\n",
        "\n",
        "#train1_2,target1_2 = GANGenerator(bot_filter_quantile = 0.0001, top_filter_quantile = 0.9999, \\\n",
        "              #              gan_params = {\"batch_size\": 50, \"patience\": 70, \"epochs\" : 2000,})\\\n",
        "              #              .generate_data_pipe(train1_2,None,train1_2)\n",
        "\n",
        "train2_2,target2_2 = GANGenerator(bot_filter_quantile = 0.0001, top_filter_quantile = 0.9999, \\\n",
        "                            gan_params = {\"batch_size\": 50, \"patience\": 70, \"epochs\" : 2000,})\\\n",
        "                            .generate_data_pipe(train2_2,None,train2_2, only_adversarial = True)\n",
        "\n",
        "#train3_2,target3_2 = GANGenerator(bot_filter_quantile = 0.0001, top_filter_quantile = 0.9999, \\\n",
        "                #            gan_params = {\"batch_size\": 50, \"patience\": 70, \"epochs\" : 2000,})\\\n",
        "                #            .generate_data_pipe(train3_2,None,train3_2, use_adversarial = False)\n",
        "\n",
        "\n",
        "#Exporting the generated datasets\n",
        "from google.colab import files\n",
        "data_inflection1 = pd.read_csv('/content/drive/MyDrive/2022_gan/MicrobeGAN/cut1')\n",
        "data_inflection1 = data_inflection1.iloc[1:,:]\n",
        "data_inflection1.rename(columns={'X':'Time'}, inplace = True)\n",
        "\n",
        "\n",
        "#synth1_2 = train1_2.join(data_inflection1['Time'])\n",
        "synth2_2 = train2_2.join(data_inflection1['Time'])\n",
        "#synth3_2 =train3_2.join(data_inflection1['Time'])\n",
        "\n",
        "\n",
        "#exp1_2 = synth1_2.to_csv('Microbe_synthetic_1_2')\n",
        "exp_2_2 = synth2_2.to_csv('Microbe_synthetic_2_2*')\n",
        "#exp_3_2 = synth3_2.to_csv('Microbe_synthetic_3_2')\n"
      ],
      "metadata": {
        "id": "n3PXJdAabY_2"
      },
      "execution_count": null,
      "outputs": []
    },
    {
      "cell_type": "code",
      "source": [
        "# GANs with the second inflection missing:\n",
        "  # 1. default generation parameters\n",
        "  # 2. only adversarial filtering\n",
        "  # 3. no adversarial filtering\n",
        "\n",
        "train1_3 = data_inflection2\n",
        "train2_3 = data_inflection2\n",
        "train3_3 = data_inflection2\n",
        "\n",
        "\n",
        "#train1_3,target1_3 = GANGenerator(bot_filter_quantile = 0.0001, top_filter_quantile = 0.9999, \\\n",
        "              #              gan_params = {\"batch_size\": 50, \"patience\": 70, \"epochs\" : 2000,})\\\n",
        "              #              .generate_data_pipe(train1_3,None,train1_3)\n",
        "\n",
        "train2_3,target2_3 = GANGenerator(bot_filter_quantile = 0.0001, top_filter_quantile = 0.9999, \\\n",
        "                            gan_params = {\"batch_size\": 50, \"patience\": 70, \"epochs\" : 2000,})\\\n",
        "                            .generate_data_pipe(train2_3,None,train2_3, only_adversarial = True)\n",
        "\n",
        "#train3_3,target3_3 = GANGenerator(bot_filter_quantile = 0.0001, top_filter_quantile = 0.9999, \\\n",
        "               #             gan_params = {\"batch_size\": 50, \"patience\": 70, \"epochs\" : 2000,})\\\n",
        "               #             .generate_data_pipe(train3_3,None,train3_3, use_adversarial = False)\n",
        "\n",
        "\n",
        "#Exporting the generated datasets\n",
        "from google.colab import files\n",
        "data_inflection2 = pd.read_csv('/content/drive/MyDrive/2022_gan/MicrobeGAN/cut2')\n",
        "data_inflection2 = data_inflection2.iloc[1:,:]\n",
        "data_inflection2.rename(columns={'X':'Time'}, inplace = True)\n",
        "\n",
        "\n",
        "#synth1_3 = train1_3.join(data_inflection2['Time'])\n",
        "synth2_3 = train2_3.join(data_inflection2['Time'])\n",
        "#synth3_3 =train3_3.join(data_inflection2['Time'])\n",
        "\n",
        "\n",
        "#exp1_3 = synth1_3.to_csv('Microbe_synthetic_1_3')\n",
        "exp_2_3 = synth2_3.to_csv('Microbe_synthetic_2_3*')\n",
        "#exp_3_3 = synth3_3.to_csv('Microbe_synthetic_3_3')\n"
      ],
      "metadata": {
        "id": "vwNjU3x0bXqX"
      },
      "execution_count": null,
      "outputs": []
    },
    {
      "cell_type": "code",
      "source": [
        "# GANs with both inflections missing:\n",
        "  # 1. default generation parameters\n",
        "  # 2. only adversarial filtering\n",
        "  # 3. no adversarial filtering\n",
        "\n",
        "train1_4 = data_inflection12\n",
        "train2_4 = data_inflection12\n",
        "train3_4 = data_inflection12\n",
        "\n",
        "\n",
        "#train1_4,target1_4 = GANGenerator(bot_filter_quantile = 0.0001, top_filter_quantile = 0.9999, \\\n",
        "             #               gan_params = {\"batch_size\": 50, \"patience\": 70, \"epochs\" : 2000,})\\\n",
        "             #               .generate_data_pipe(train1_4,None,train1_4)\n",
        "\n",
        "train2_4,target2_4 = GANGenerator(bot_filter_quantile = 0.0001, top_filter_quantile = 0.9999, \\\n",
        "                            gan_params = {\"batch_size\": 50, \"patience\": 70, \"epochs\" : 2000,})\\\n",
        "                            .generate_data_pipe(train2_4,None,train2_4, only_adversarial = True)\n",
        "\n",
        "#train3_4,target3_4 = GANGenerator(bot_filter_quantile = 0.0001, top_filter_quantile = 0.9999, \\\n",
        "              #              gan_params = {\"batch_size\": 50, \"patience\": 70, \"epochs\" : 2000,})\\\n",
        "              #              .generate_data_pipe(train3_4,None,train3_4, use_adversarial = False)\n",
        "\n",
        "\n",
        "#Exporting the generated datasets\n",
        "from google.colab import files\n",
        "data_inflection12 = pd.read_csv('/content/drive/MyDrive/2022_gan/MicrobeGAN/cut12')\n",
        "data_inflection12 = data_inflection12.iloc[1:,:]\n",
        "data_inflection12.rename(columns={'X':'Time'}, inplace = True)\n",
        "\n",
        "\n",
        "#synth1_4 = train1_4.join(data_inflection12['Time'])\n",
        "synth2_4 = train2_4.join(data_inflection12['Time'])\n",
        "#synth3_4 =train3_4.join(data_inflection12['Time'])\n",
        "\n",
        "\n",
        "#exp1_4 = synth1_4.to_csv('Microbe_synthetic_1_4')\n",
        "exp_2_4 = synth2_4.to_csv('Microbe_synthetic_2_4*')\n",
        "#exp_3_4 = synth3_4.to_csv('Microbe_synthetic_3_4')"
      ],
      "metadata": {
        "id": "IJiA22hZbh0X"
      },
      "execution_count": null,
      "outputs": []
    }
  ]
}